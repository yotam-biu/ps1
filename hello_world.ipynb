{
  "nbformat": 4,
  "nbformat_minor": 0,
  "metadata": {
    "colab": {
      "provenance": [],
      "authorship_tag": "ABX9TyO6Ag5n8E0dKi9G1t72s4G4",
      "include_colab_link": true
    },
    "kernelspec": {
      "name": "python3",
      "display_name": "Python 3"
    },
    "language_info": {
      "name": "python"
    }
  },
  "cells": [
    {
      "cell_type": "markdown",
      "metadata": {
        "id": "view-in-github",
        "colab_type": "text"
      },
      "source": [
        "<a href=\"https://colab.research.google.com/github/yotam-biu/ps1/blob/main/hello_world.ipynb\" target=\"_parent\"><img src=\"https://colab.research.google.com/assets/colab-badge.svg\" alt=\"Open In Colab\"/></a>"
      ]
    },
    {
      "cell_type": "code",
      "execution_count": null,
      "metadata": {
        "id": "YKdemN9asFpe"
      },
      "outputs": [],
      "source": [
        "greeting = \"Hello\"\n",
        "name = \"World\"\n",
        "greeting = greeting + name\n",
        "print(greeting)"
      ]
    },
    {
      "cell_type": "code",
      "source": [
        "greeting == \"Hello World!\""
      ],
      "metadata": {
        "id": "xBrk8hNLyn1q"
      },
      "execution_count": null,
      "outputs": []
    }
  ]
}